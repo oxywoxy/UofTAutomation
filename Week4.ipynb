{
 "cells": [
  {
   "cell_type": "code",
   "execution_count": 10,
   "metadata": {},
   "outputs": [
    {
     "data": {
      "text/plain": [
       "'Riddick say wooooo'"
      ]
     },
     "execution_count": 10,
     "metadata": {},
     "output_type": "execute_result"
    }
   ],
   "source": [
    "# Defining classes in Python\n",
    "\n",
    "class Dog:\n",
    "    def __init__(self, name, age):\n",
    "        self.name = name\n",
    "        self.age = age\n",
    "\n",
    "    def speak(self):\n",
    "        return f\"{self.name} say woof!\"\n",
    "buddy = Dog(\"Buddy\", 4)\n",
    "    \n",
    "\n",
    "buddy.name\n",
    "\n",
    "buddy.age\n",
    "\n",
    "buddy.speak()\n",
    "\n",
    "\n",
    "class Husky(Dog):\n",
    "    def speak(self):\n",
    "        return f\"{self.name} say wooooo\"\n",
    "my_husky = Husky(\"Riddick\", 10)\n",
    "my_husky.speak()\n"
   ]
  },
  {
   "cell_type": "code",
   "execution_count": 21,
   "metadata": {},
   "outputs": [],
   "source": [
    "\n",
    "\n",
    "with open(r\"C:\\Users\\user1\\Downloads\\example.txt\", 'w') as f:\n",
    "    f.write('Hello')"
   ]
  },
  {
   "cell_type": "code",
   "execution_count": 22,
   "metadata": {},
   "outputs": [
    {
     "name": "stdout",
     "output_type": "stream",
     "text": [
      "Hello\n"
     ]
    }
   ],
   "source": [
    "# reading from a file\n",
    "with open(r\"C:\\Users\\user1\\Downloads\\example.txt\", 'r') as f:\n",
    "    content = f.read()\n",
    "    print(content)"
   ]
  },
  {
   "cell_type": "code",
   "execution_count": 23,
   "metadata": {},
   "outputs": [],
   "source": [
    "# appending to a file with the \"a\" parameter\n",
    "with open(r\"C:\\Users\\user1\\Downloads\\example.txt\", 'a') as f:\n",
    "    f.write('How are you')"
   ]
  },
  {
   "cell_type": "code",
   "execution_count": 24,
   "metadata": {},
   "outputs": [],
   "source": [
    "import csv"
   ]
  },
  {
   "cell_type": "code",
   "execution_count": 25,
   "metadata": {},
   "outputs": [],
   "source": [
    "customers = [['ID','Name','Email'], ['1001','John Doe','john@email.com'],['1002','Jane Doe', 'jane@email.com']]"
   ]
  },
  {
   "cell_type": "code",
   "execution_count": 26,
   "metadata": {},
   "outputs": [],
   "source": [
    "with open(r\"C:\\Users\\user1\\Downloads\\customers.csv\",'w', newline='') as f:\n",
    "    writer = csv.writer(f)\n",
    "    writer.writerows(customers)"
   ]
  },
  {
   "cell_type": "code",
   "execution_count": 27,
   "metadata": {},
   "outputs": [
    {
     "name": "stdout",
     "output_type": "stream",
     "text": [
      "ID, Name, Email\n",
      "1001, John Doe, john@email.com\n",
      "1002, Jane Doe, jane@email.com\n"
     ]
    }
   ],
   "source": [
    "with open(r\"C:\\Users\\user1\\Downloads\\customers.csv\",'r') as f:\n",
    "    reader = csv.reader(f)\n",
    "    for row in reader:\n",
    "        print(', '.join(row))"
   ]
  },
  {
   "cell_type": "code",
   "execution_count": 28,
   "metadata": {},
   "outputs": [],
   "source": [
    "class Product:\n",
    "    def __init__(self, product_id, name, quantity, unit_price):\n",
    "        self.product_id = product_id\n",
    "        self.name = name\n",
    "        self.quantity = quantity\n",
    "        self.unit_price = unit_price\n",
    "    \n",
    "    def add_inventory(self, amount):\n",
    "        self.quantity += amount\n",
    "\n",
    "    def remove_inventory(self, amount):\n",
    "        if amount <= self.quantity:\n",
    "            self.quantity -= amount\n",
    "        else:\n",
    "            print(f\"Not enough stock of {self.name}\")\n",
    "    \n",
    "    def inventory_value(self):\n",
    "        return self.quantity * self.unit_price\n",
    "    \n",
    "    def quantity_remaining(self):\n",
    "        return self.quantity"
   ]
  },
  {
   "cell_type": "code",
   "execution_count": 29,
   "metadata": {},
   "outputs": [],
   "source": [
    "bananas = Product(1001, \"Bananas\", 1000, 0.10)"
   ]
  },
  {
   "cell_type": "code",
   "execution_count": 30,
   "metadata": {},
   "outputs": [],
   "source": [
    "bananas.add_inventory(50)"
   ]
  },
  {
   "cell_type": "code",
   "execution_count": 31,
   "metadata": {},
   "outputs": [
    {
     "data": {
      "text/plain": [
       "105.0"
      ]
     },
     "execution_count": 31,
     "metadata": {},
     "output_type": "execute_result"
    }
   ],
   "source": [
    "bananas.inventory_value()"
   ]
  },
  {
   "cell_type": "code",
   "execution_count": 32,
   "metadata": {},
   "outputs": [
    {
     "data": {
      "text/plain": [
       "1050"
      ]
     },
     "execution_count": 32,
     "metadata": {},
     "output_type": "execute_result"
    }
   ],
   "source": [
    "bananas.quantity"
   ]
  },
  {
   "cell_type": "code",
   "execution_count": 34,
   "metadata": {},
   "outputs": [],
   "source": [
    "inventory_file = [['product_id', 'name', 'quantity', 'unit_price']]\n",
    "with open(r\"C:\\Users\\user1\\Downloads\\inventory.csv\",'w', newline='') as f:\n",
    "    writer = csv.writer(f)\n",
    "    writer.writerows(inventory_file)"
   ]
  },
  {
   "cell_type": "code",
   "execution_count": 35,
   "metadata": {},
   "outputs": [],
   "source": [
    "inventory_file = [['product_id', 'name', 'quantity', 'unit_price'],\n",
    "                  ['P001','Laptop',10,1000],\n",
    "                  ['P001','Smartphone',100,1500],\n",
    "                  ['P003','Tablet',15,500]]\n",
    "with open(r\"C:\\Users\\user1\\Downloads\\inventory.csv\",'w', newline='') as f:\n",
    "    writer = csv.writer(f)\n",
    "    writer.writerows(inventory_file)"
   ]
  }
 ],
 "metadata": {
  "kernelspec": {
   "display_name": "Python 3",
   "language": "python",
   "name": "python3"
  },
  "language_info": {
   "codemirror_mode": {
    "name": "ipython",
    "version": 3
   },
   "file_extension": ".py",
   "mimetype": "text/x-python",
   "name": "python",
   "nbconvert_exporter": "python",
   "pygments_lexer": "ipython3",
   "version": "3.12.2"
  }
 },
 "nbformat": 4,
 "nbformat_minor": 2
}
